{
 "cells": [
  {
   "cell_type": "code",
   "execution_count": 6,
   "id": "a139ea02-b3c8-4e95-b896-9560977e93bf",
   "metadata": {},
   "outputs": [],
   "source": [
    "import sqlite3 "
   ]
  },
  {
   "cell_type": "code",
   "execution_count": 7,
   "id": "bc3ff8fd-b967-4f90-948e-b358fbcac162",
   "metadata": {},
   "outputs": [],
   "source": [
    "with sqlite3.connect(\"sales_data.db\") as conn:\n",
    "    cursor = conn.cursor()\n",
    "    cursor.execute(\"DROP TABLE IF EXISTS sales\")\n",
    "    cursor.execute(\"CREATE TABLE sales (product TEXT, quantity INTEGER, price REAL)\")\n",
    "    data = [\n",
    "        (\"Laptop\", 5, 60000),\n",
    "        (\"Mouse\", 20, 500),\n",
    "        (\"Keyboard\", 10, 1500),\n",
    "        (\"Monitor\", 7, 8000),\n",
    "        (\"USB Cable\", 15, 250)\n",
    "    ]\n",
    "    cursor.executemany(\"INSERT INTO sales VALUES (?, ?, ?)\", data)\n",
    "    conn.commit() "
   ]
  },
  {
   "cell_type": "code",
   "execution_count": 9,
   "id": "b7ea80ed-0908-4a77-a779-a65daa023c4d",
   "metadata": {},
   "outputs": [],
   "source": [
    "import sqlite3 "
   ]
  },
  {
   "cell_type": "code",
   "execution_count": 10,
   "id": "db5d7d81-a570-413a-bd91-78d297356e95",
   "metadata": {},
   "outputs": [],
   "source": [
    "with sqlite3.connect(\"sales_data.db\") as conn:\n",
    "    cursor = conn.cursor()\n",
    "    cursor.execute(\"SELECT * FROM sales\")\n",
    "    rows = cursor.fetchall() "
   ]
  },
  {
   "cell_type": "code",
   "execution_count": 11,
   "id": "94eacf57-9d82-4d10-9714-0a8daf541f94",
   "metadata": {},
   "outputs": [
    {
     "name": "stdout",
     "output_type": "stream",
     "text": [
      "('Laptop', 5, 60000.0)\n",
      "('Mouse', 20, 500.0)\n",
      "('Keyboard', 10, 1500.0)\n",
      "('Monitor', 7, 8000.0)\n",
      "('USB Cable', 15, 250.0)\n"
     ]
    }
   ],
   "source": [
    "for row in rows:\n",
    "    print(row) "
   ]
  },
  {
   "cell_type": "code",
   "execution_count": 12,
   "id": "c87f5f56-82cf-4b7d-a079-4ce510e82f06",
   "metadata": {},
   "outputs": [],
   "source": [
    "import sqlite3 "
   ]
  },
  {
   "cell_type": "code",
   "execution_count": 14,
   "id": "f646cf0a-939a-4209-9983-056a79d11402",
   "metadata": {},
   "outputs": [],
   "source": [
    "import pandas as pd "
   ]
  },
  {
   "cell_type": "code",
   "execution_count": 17,
   "id": "96bc61c8-0f23-40fd-a2d0-b58c259fd1fb",
   "metadata": {},
   "outputs": [],
   "source": [
    "with sqlite3.connect(\"sales_data.db\") as conn:\n",
    "    query = \"\"\"\n",
    "    SELECT \n",
    "        product, \n",
    "        SUM(quantity) AS total_quantity, \n",
    "        SUM(quantity * price) AS total_revenue\n",
    "    FROM sales\n",
    "    GROUP BY product\n",
    "    \"\"\"\n",
    "    df = pd.read_sql_query(query, conn) "
   ]
  },
  {
   "cell_type": "code",
   "execution_count": 18,
   "id": "1534a5f7-81b7-42b3-b55c-dd2a58e92a94",
   "metadata": {},
   "outputs": [
    {
     "name": "stdout",
     "output_type": "stream",
     "text": [
      "     product  total_quantity  total_revenue\n",
      "0   Keyboard              10        15000.0\n",
      "1     Laptop               5       300000.0\n",
      "2    Monitor               7        56000.0\n",
      "3      Mouse              20        10000.0\n",
      "4  USB Cable              15         3750.0\n"
     ]
    }
   ],
   "source": [
    "print(df) "
   ]
  },
  {
   "cell_type": "code",
   "execution_count": 1,
   "id": "2403f091-a4b2-4759-b980-5380fcf62b27",
   "metadata": {},
   "outputs": [],
   "source": [
    "import matplotlib.pyplot as plt"
   ]
  },
  {
   "cell_type": "code",
   "execution_count": 3,
   "id": "75d879af-3e86-4549-83e9-b02df3991b9d",
   "metadata": {},
   "outputs": [
    {
     "ename": "NameError",
     "evalue": "name 'df' is not defined",
     "output_type": "error",
     "traceback": [
      "\u001b[1;31m---------------------------------------------------------------------------\u001b[0m",
      "\u001b[1;31mNameError\u001b[0m                                 Traceback (most recent call last)",
      "Cell \u001b[1;32mIn[3], line 2\u001b[0m\n\u001b[0;32m      1\u001b[0m plt\u001b[38;5;241m.\u001b[39mfigure(figsize\u001b[38;5;241m=\u001b[39m(\u001b[38;5;241m7\u001b[39m,\u001b[38;5;241m5\u001b[39m))\n\u001b[1;32m----> 2\u001b[0m plt\u001b[38;5;241m.\u001b[39mbar(df[\u001b[38;5;124m'\u001b[39m\u001b[38;5;124mproduct\u001b[39m\u001b[38;5;124m'\u001b[39m], df[\u001b[38;5;124m'\u001b[39m\u001b[38;5;124mtotal_revenue\u001b[39m\u001b[38;5;124m'\u001b[39m], color\u001b[38;5;241m=\u001b[39m\u001b[38;5;124m'\u001b[39m\u001b[38;5;124mskyblue\u001b[39m\u001b[38;5;124m'\u001b[39m, edgecolor\u001b[38;5;241m=\u001b[39m\u001b[38;5;124m'\u001b[39m\u001b[38;5;124mblack\u001b[39m\u001b[38;5;124m'\u001b[39m)\n\u001b[0;32m      4\u001b[0m plt\u001b[38;5;241m.\u001b[39mtitle(\u001b[38;5;124m'\u001b[39m\u001b[38;5;124m💰 Total Revenue by Product\u001b[39m\u001b[38;5;124m'\u001b[39m)\n\u001b[0;32m      5\u001b[0m plt\u001b[38;5;241m.\u001b[39mxlabel(\u001b[38;5;124m'\u001b[39m\u001b[38;5;124mProduct\u001b[39m\u001b[38;5;124m'\u001b[39m)\n",
      "\u001b[1;31mNameError\u001b[0m: name 'df' is not defined"
     ]
    },
    {
     "data": {
      "text/plain": [
       "<Figure size 700x500 with 0 Axes>"
      ]
     },
     "metadata": {},
     "output_type": "display_data"
    }
   ],
   "source": [
    "plt.figure(figsize=(7,5))\n",
    "plt.bar(df['product'], df['total_revenue'], color='skyblue', edgecolor='black')\n",
    "\n",
    "plt.title('💰 Total Revenue by Product')\n",
    "plt.xlabel('Product')\n",
    "plt.ylabel('Revenue (₹)')\n",
    "plt.tight_layout()\n",
    "plt.show()"
   ]
  },
  {
   "cell_type": "code",
   "execution_count": 4,
   "id": "4ff36948-0454-4f37-8656-619636b4471f",
   "metadata": {},
   "outputs": [],
   "source": [
    "import sqlite3"
   ]
  },
  {
   "cell_type": "code",
   "execution_count": 5,
   "id": "cacb9b2b-d12c-490d-952f-7f2b6b1e6ca0",
   "metadata": {},
   "outputs": [],
   "source": [
    "import pandas as pd"
   ]
  },
  {
   "cell_type": "code",
   "execution_count": 6,
   "id": "46c41ca9-d75b-43a1-bf12-50256dd73c90",
   "metadata": {},
   "outputs": [],
   "source": [
    "with sqlite3.connect(\"sales_data.db\") as conn:\n",
    "    query = \"\"\"\n",
    "    SELECT \n",
    "        product, \n",
    "        SUM(quantity) AS total_quantity, \n",
    "        SUM(quantity * price) AS total_revenue\n",
    "    FROM sales\n",
    "    GROUP BY product\n",
    "    \"\"\"\n",
    "    df = pd.read_sql_query(query, conn)"
   ]
  },
  {
   "cell_type": "code",
   "execution_count": 7,
   "id": "ba45868e-af8e-45a6-b0bc-a7c157a0703d",
   "metadata": {},
   "outputs": [
    {
     "name": "stdout",
     "output_type": "stream",
     "text": [
      "     product  total_quantity  total_revenue\n",
      "0   Keyboard              10        15000.0\n",
      "1     Laptop               5       300000.0\n",
      "2    Monitor               7        56000.0\n",
      "3      Mouse              20        10000.0\n",
      "4  USB Cable              15         3750.0\n"
     ]
    }
   ],
   "source": [
    "print(df)"
   ]
  },
  {
   "cell_type": "code",
   "execution_count": 8,
   "id": "b2e5048b-995a-4815-84bf-4fd20bb3ec97",
   "metadata": {},
   "outputs": [
    {
     "name": "stderr",
     "output_type": "stream",
     "text": [
      "C:\\Users\\irsha\\AppData\\Local\\Temp\\ipykernel_8112\\2284203399.py:6: UserWarning: Glyph 128176 (\\N{MONEY BAG}) missing from font(s) DejaVu Sans.\n",
      "  plt.tight_layout()\n",
      "D:\\Anaconda\\Lib\\site-packages\\IPython\\core\\pylabtools.py:170: UserWarning: Glyph 128176 (\\N{MONEY BAG}) missing from font(s) DejaVu Sans.\n",
      "  fig.canvas.print_figure(bytes_io, **kw)\n"
     ]
    },
    {
     "data": {
      "image/png": "[encoded data removed]",
      "text/plain": [
       "<Figure size 700x500 with 1 Axes>"
      ]
     },
     "metadata": {},
     "output_type": "display_data"
    }
   ],
   "source": [
    "plt.figure(figsize=(7,5))\n",
    "plt.bar(df['product'], df['total_revenue'], color='skyblue', edgecolor='black')\n",
    "plt.title('💰 Total Revenue by Product')\n",
    "plt.xlabel('Product')\n",
    "plt.ylabel('Revenue (₹)')\n",
    "plt.tight_layout()\n",
    "plt.show()"
   ]
  },
  {
   "cell_type": "code",
   "execution_count": null,
   "id": "e7e4b823-f754-4f93-96b4-ca675f7c0a12",
   "metadata": {},
   "outputs": [],
   "source": []
  }
 ],
 "metadata": {
  "kernelspec": {
   "display_name": "Python 3 (ipykernel)",
   "language": "python",
   "name": "python3"
  },
  "language_info": {
   "codemirror_mode": {
    "name": "ipython",
    "version": 3
   },
   "file_extension": ".py",
   "mimetype": "text/x-python",
   "name": "python",
   "nbconvert_exporter": "python",
   "pygments_lexer": "ipython3",
   "version": "3.13.5"
  }
 },
 "nbformat": 4,
 "nbformat_minor": 5
}
